{
 "cells": [
  {
   "cell_type": "code",
   "execution_count": 66,
   "metadata": {},
   "outputs": [
    {
     "name": "stdout",
     "output_type": "stream",
     "text": [
      "<class 'numpy.ndarray'>\n",
      "(20, 200, 200, 3)\n",
      "<class 'numpy.ndarray'>\n",
      "(20, 200, 200, 3)\n",
      "<class 'numpy.ndarray'>\n",
      "(20, 200, 200, 3)\n",
      "<class 'numpy.ndarray'>\n",
      "(20, 200, 200, 3)\n",
      "<class 'numpy.ndarray'>\n",
      "(20, 200, 200, 3)\n",
      "<class 'numpy.ndarray'>\n",
      "(20, 200, 200, 3)\n",
      "<class 'numpy.ndarray'>\n",
      "(20, 200, 200, 3)\n",
      "<class 'numpy.ndarray'>\n",
      "(20, 200, 200, 3)\n",
      "<class 'numpy.ndarray'>\n",
      "(20, 200, 200, 3)\n",
      "<class 'numpy.ndarray'>\n",
      "(20, 200, 200, 3)\n",
      "<class 'numpy.ndarray'>\n",
      "(20, 200, 200, 3)\n",
      "<class 'numpy.ndarray'>\n",
      "(20, 200, 200, 3)\n",
      "<class 'numpy.ndarray'>\n",
      "(20, 200, 200, 3)\n",
      "<class 'numpy.ndarray'>\n",
      "(20, 200, 200, 3)\n",
      "<class 'numpy.ndarray'>\n",
      "(20, 200, 200, 3)\n",
      "<class 'numpy.ndarray'>\n",
      "(20, 200, 200, 3)\n",
      "<class 'numpy.ndarray'>\n",
      "(20, 200, 200, 3)\n",
      "<class 'numpy.ndarray'>\n",
      "(20, 200, 200, 3)\n",
      "<class 'numpy.ndarray'>\n",
      "(20, 200, 200, 3)\n",
      "<class 'numpy.ndarray'>\n",
      "(20, 200, 200, 3)\n"
     ]
    }
   ],
   "source": [
    "import numpy as np\n",
    "import os\n",
    "from PIL import Image\n",
    "import matplotlib.pylab as plt\n",
    "img_array=np.zeros([20,200,200,3])\n",
    "index=0\n",
    "root_dir =r'C:\\Users\\aneeqshaikh\\Downloads\\photos' # r'dir. address' to avoid unicode error\n",
    "for dirName, subdirList, fileList in os.walk(root_dir):\n",
    "    #print('Found directory: %s ' % dirName,)\n",
    "    for fname in fileList:\n",
    "        img=Image.open(fname)\n",
    "        img=img.resize((200,200))                      #width,height=img.size\n",
    "        img_array[index]=img\n",
    "        index=index+1\n",
    "        print(type(img_array))\n",
    "        print(img_array.shape)\n",
    "        \n",
    "    "
   ]
  },
  {
   "cell_type": "code",
   "execution_count": 38,
   "metadata": {},
   "outputs": [],
   "source": [
    "from PIL import Image\n",
    "import matplotlib.pylab as plt\n",
    "img=Image.open(r'C:\\Users\\aneeqshaikh\\Downloads\\photos\\1.jpg')\n",
    "img.show()\n",
    "#img1=img.resize((200,200))\n",
    "#im2=plt.imread(img1)\n"
   ]
  },
  {
   "cell_type": "code",
   "execution_count": null,
   "metadata": {},
   "outputs": [],
   "source": []
  }
 ],
 "metadata": {
  "kernelspec": {
   "display_name": "Python 3",
   "language": "python",
   "name": "python3"
  },
  "language_info": {
   "codemirror_mode": {
    "name": "ipython",
    "version": 3
   },
   "file_extension": ".py",
   "mimetype": "text/x-python",
   "name": "python",
   "nbconvert_exporter": "python",
   "pygments_lexer": "ipython3",
   "version": "3.7.4"
  }
 },
 "nbformat": 4,
 "nbformat_minor": 2
}
