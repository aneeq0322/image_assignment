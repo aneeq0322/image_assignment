{
 "cells": [
  {
   "cell_type": "code",
   "execution_count": 41,
   "metadata": {},
   "outputs": [
    {
     "name": "stdout",
     "output_type": "stream",
     "text": [
      "Found directory: C:\\Users\\aneeqshaikh\\Desktop\\python2\\photos \n",
      "0\n",
      "1\n",
      "2\n",
      "3\n",
      "4\n",
      "5\n",
      "6\n",
      "7\n",
      "8\n",
      "9\n",
      "10\n",
      "11\n",
      "12\n",
      "13\n",
      "14\n",
      "15\n",
      "16\n",
      "17\n",
      "18\n",
      "19\n",
      "<class 'numpy.ndarray'>\n",
      "(20, 200, 200, 3)\n"
     ]
    }
   ],
   "source": [
    "import numpy as np\n",
    "import os\n",
    "from PIL import Image\n",
    "#import matplotlib.pylab as plt\n",
    "img_array=np.zeros([20,200,200,3])\n",
    "index=0\n",
    "root_dir =r'C:\\Users\\aneeqshaikh\\Desktop\\python2\\photos'                           \n",
    "                                                                       #rdir. address to avoid unicode error\n",
    "for dirName, subdirList,fileList in os.walk(root_dir):\n",
    "    print('Found directory: %s ' % dirName,)\n",
    "    for fname in range(0,len(fileList)):\n",
    "        print(fname)\n",
    "        img=Image.open(root_dir+\"\\\\\"+fileList[fname])\n",
    "        #img.show()\n",
    "        img=img.resize((200,200))                      #width,height=img.size\n",
    "        img_array[index]=img\n",
    "        index=index+1\n",
    "    print(type(img_array))\n",
    "    print(img_array.shape)\n",
    "\n",
    "#print(img_array[4,199,199,])\n",
    "    "
   ]
  },
  {
   "cell_type": "code",
   "execution_count": 14,
   "metadata": {},
   "outputs": [],
   "source": [
    "from PIL import Image\n",
    "import matplotlib.pylab as plt\n",
    "img=Image.open(r'C:\\Users\\aneeqshaikh\\Desktop\\python2\\photos\\1.jpg')\n",
    "img.show()\n",
    "#img1=img.resize((200,200))\n",
    "#im2=plt.imread(img1)\n"
   ]
  },
  {
   "cell_type": "code",
   "execution_count": null,
   "metadata": {},
   "outputs": [],
   "source": []
  }
 ],
 "metadata": {
  "kernelspec": {
   "display_name": "Python 3",
   "language": "python",
   "name": "python3"
  },
  "language_info": {
   "codemirror_mode": {
    "name": "ipython",
    "version": 3
   },
   "file_extension": ".py",
   "mimetype": "text/x-python",
   "name": "python",
   "nbconvert_exporter": "python",
   "pygments_lexer": "ipython3",
   "version": "3.7.4"
  }
 },
 "nbformat": 4,
 "nbformat_minor": 2
}
